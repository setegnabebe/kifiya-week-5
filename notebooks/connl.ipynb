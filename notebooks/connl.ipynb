{
 "cells": [
  {
   "cell_type": "markdown",
   "metadata": {},
   "source": [
    "Label a Subset of Dataset in CoNLL Format\n"
   ]
  },
  {
   "cell_type": "code",
   "execution_count": 1,
   "metadata": {},
   "outputs": [
    {
     "name": "stdout",
     "output_type": "stream",
     "text": [
      "Dataset Preview:\n",
      "         Channel Title    Channel Username    ID  \\\n",
      "0  Sheger online-store  @Shageronlinestore  5328   \n",
      "1  Sheger online-store  @Shageronlinestore  5327   \n",
      "2  Sheger online-store  @Shageronlinestore  5326   \n",
      "3  Sheger online-store  @Shageronlinestore  5325   \n",
      "4  Sheger online-store  @Shageronlinestore  5323   \n",
      "\n",
      "                                             Message  \\\n",
      "0  💥3pcs silicon brush spatulas\\n\\n⚡እስከ 260°c ሙቀት...   \n",
      "1  💥Mandoline Slicer\\n\\n👉 ጊዜ ቆጣቢ ስላይስ ማድረጊያ \\n👉  ...   \n",
      "2  💥Table Desk Edge Guard Strip\\n       💯 High Qu...   \n",
      "3  💥Table Desk Edge Guard Strip\\n       💯 High Qu...   \n",
      "4  💥Only baby 3in1 double bottle milk warmer,ster...   \n",
      "\n",
      "                        Date                          Media Path  \\\n",
      "0  2024-09-20 11:50:02+00:00  photos/@Shageronlinestore_5328.jpg   \n",
      "1  2024-09-20 08:11:40+00:00                                 NaN   \n",
      "2  2024-09-20 05:23:18+00:00                                 NaN   \n",
      "3  2024-09-20 05:21:14+00:00  photos/@Shageronlinestore_5325.jpg   \n",
      "4  2024-09-19 13:54:46+00:00  photos/@Shageronlinestore_5323.jpg   \n",
      "\n",
      "                                              tokens  \n",
      "0  ['3pcs', 'silicon', 'brush', 'spatulas', 'እስከ'...  \n",
      "1  ['Mandoline', 'Slicer', 'ጊዜ', 'ቆጣቢ', 'ስላይስ', '...  \n",
      "2  ['Table', 'Desk', 'Edge', 'Guard', 'Strip', 'H...  \n",
      "3  ['Table', 'Desk', 'Edge', 'Guard', 'Strip', 'H...  \n",
      "4  ['Only', 'baby', '3in1', 'double', 'bottle', '...  \n"
     ]
    }
   ],
   "source": [
    "import pandas as pd\n",
    "import os\n",
    "\n",
    "# Load your dataset\n",
    "df = pd.read_csv('../data/cleaned_telegram_data.csv')\n",
    "\n",
    "# Display the first few rows of the dataset to understand its structure\n",
    "print(\"Dataset Preview:\")\n",
    "print(df.head())\n"
   ]
  },
  {
   "cell_type": "code",
   "execution_count": 2,
   "metadata": {},
   "outputs": [],
   "source": [
    "# Function to label entities in a message\n",
    "def label_entities(message):\n",
    "    labeled_data = []\n",
    "    \n",
    "    # Sample tokenization and labeling logic (you may need to refine this)\n",
    "    tokens = message.split()\n",
    "    for token in tokens:\n",
    "        # Example conditions for labeling (customize this)\n",
    "        if \"ብር\" in token or \"ዋጋ\" in token:\n",
    "            if token.startswith(\"ዋጋ\"):\n",
    "                labeled_data.append((token, \"B-PRICE\"))\n",
    "            else:\n",
    "                labeled_data.append((token, \"I-PRICE\"))\n",
    "        elif token in [\"አዲስ\", \"አበባ\"]:  # Example location keywords\n",
    "            labeled_data.append((token, \"B-LOC\"))\n",
    "        elif token in [\"መሸጫ\", \"ተመን\"]:  # Example product keywords\n",
    "            labeled_data.append((token, \"B-PRODUCT\"))\n",
    "        else:\n",
    "            labeled_data.append((token, \"O\"))\n",
    "    \n",
    "    return labeled_data\n"
   ]
  },
  {
   "cell_type": "code",
   "execution_count": 4,
   "metadata": {},
   "outputs": [],
   "source": [
    "# Label a subset of the dataset (30-50 messages)\n",
    "subset_size = min(50, len(df))  # Adjust based on the dataset size\n",
    "coNLL_lines = []\n",
    "\n",
    "for idx in range(subset_size):\n",
    "    message = df.iloc[idx]['Message']\n",
    "    labeled_message = label_entities(message)\n",
    "    \n",
    "    for token, label in labeled_message:\n",
    "        coNLL_lines.append(f\"{token} {label}\")\n",
    "    coNLL_lines.append(\"\")  # Add a blank line to separate sentences/messages\n"
   ]
  },
  {
   "cell_type": "code",
   "execution_count": 7,
   "metadata": {},
   "outputs": [
    {
     "name": "stdout",
     "output_type": "stream",
     "text": [
      "Sample CoNLL Data:\n",
      "💥3pcs O\n",
      "silicon O\n",
      "brush O\n",
      "spatulas O\n",
      "⚡እስከ O\n",
      "260°c O\n",
      "ሙቀት O\n",
      "መቆቆም O\n",
      "የሚችል O\n",
      "ዋጋ-550ብር✅ B-PRICE\n",
      "🏢 O\n",
      "አድራሻ O\n",
      "ቁ.1👉 O\n",
      "ስሪ O\n",
      "ኤም O\n",
      "ሲቲ O\n",
      "ሞል O\n",
      "ሁለተኛ O\n",
      "ፎቅ O\n",
      "ቢሮ O\n"
     ]
    }
   ],
   "source": [
    "# Display a sample of the CoNLL-formatted data\n",
    "print(\"Sample CoNLL Data:\")\n",
    "for line in coNLL_lines[:10]:  # Display the first 10 lines for brevity\n",
    "    print(line)\n"
   ]
  },
  {
   "cell_type": "code",
   "execution_count": 5,
   "metadata": {},
   "outputs": [
    {
     "name": "stdout",
     "output_type": "stream",
     "text": [
      "Labeled data saved to: ../data/labeled_data.conll\n"
     ]
    }
   ],
   "source": [
    "# Save the labeled data in CoNLL format to a plain text file\n",
    "output_file_path = '../data/labeled_data.conll'\n",
    "with open(output_file_path, 'w', encoding='utf-8') as f:\n",
    "    for line in coNLL_lines:\n",
    "        f.write(line + '\\n')\n",
    "\n",
    "print(f\"Labeled data saved to: {output_file_path}\")\n"
   ]
  }
 ],
 "metadata": {
  "kernelspec": {
   "display_name": "Python 3",
   "language": "python",
   "name": "python3"
  },
  "language_info": {
   "codemirror_mode": {
    "name": "ipython",
    "version": 3
   },
   "file_extension": ".py",
   "mimetype": "text/x-python",
   "name": "python",
   "nbconvert_exporter": "python",
   "pygments_lexer": "ipython3",
   "version": "3.10.12"
  }
 },
 "nbformat": 4,
 "nbformat_minor": 2
}
